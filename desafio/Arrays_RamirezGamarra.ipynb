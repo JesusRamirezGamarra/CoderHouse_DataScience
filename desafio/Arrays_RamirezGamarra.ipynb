{
 "cells": [
  {
   "attachments": {},
   "cell_type": "markdown",
   "id": "04009a5b",
   "metadata": {},
   "source": [
    ">> Formato: Entregar un archivo con formato .ipynb. Debe tener el nombre “Arrays+Apellido”. \n",
    "Sugerencia: Preparar el código y probar los resultados con distintas entradas.\n",
    ">> Consigna: \n",
    "Generar un array aleatorio de 100 elementos. Calcular la mediana correspondiente.\n",
    "Recordar los ejercicios con funciones para cálculo de factorial y suma de serie de la Clase 02. Repetir ambos ejercicios, pero ahora utilizar las nuevas operaciones aprendidas con los ndarrays.\n",
    "En este link se provee un archivo con los resultados de la Encuesta de Sueldos de Openqube de Febrero 2020 (https://sueldos.openqube.io/encuesta-sueldos-2020.02/ ), Calcular y comparar media y mediana de los sueldos netos.\n",
    "\n",
    ">>Aspectos a incluir en el entregable:\n",
    "El código debe estar hecho en un notebook y debe estar probado.\n"
   ]
  },
  {
   "cell_type": "markdown",
   "id": "f5c3a309",
   "metadata": {},
   "source": [
    ">> Consigna: \n",
    "Generar un array aleatorio de 100 elementos. Calcular la mediana correspondiente."
   ]
  },
  {
   "cell_type": "code",
   "execution_count": 38,
   "id": "849ea781",
   "metadata": {},
   "outputs": [],
   "source": [
    "# importar la libreria\n",
    "import numpy as np"
   ]
  },
  {
   "cell_type": "code",
   "execution_count": 48,
   "id": "5bc01446",
   "metadata": {},
   "outputs": [
    {
     "data": {
      "text/plain": [
       "array([34, 77, 11, 20])"
      ]
     },
     "execution_count": 48,
     "metadata": {},
     "output_type": "execute_result"
    }
   ],
   "source": [
    "Np_random_dimensiones = np.random.randint( 100,size=(4)) #valores aleatorios\n",
    "Np_random_dimensiones\n"
   ]
  },
  {
   "cell_type": "code",
   "execution_count": 49,
   "id": "f3f856ad",
   "metadata": {},
   "outputs": [
    {
     "data": {
      "text/plain": [
       "35.5"
      ]
     },
     "execution_count": 49,
     "metadata": {},
     "output_type": "execute_result"
    }
   ],
   "source": [
    "Np_random_dimensiones.mean()"
   ]
  },
  {
   "cell_type": "code",
   "execution_count": 50,
   "id": "22b53af7",
   "metadata": {},
   "outputs": [
    {
     "data": {
      "text/plain": [
       "array([34, 77, 11, 20])"
      ]
     },
     "execution_count": 50,
     "metadata": {},
     "output_type": "execute_result"
    }
   ],
   "source": [
    "Np_random_dimensiones"
   ]
  },
  {
   "cell_type": "code",
   "execution_count": 51,
   "id": "7a435816",
   "metadata": {},
   "outputs": [
    {
     "data": {
      "text/plain": [
       "27.0"
      ]
     },
     "execution_count": 51,
     "metadata": {},
     "output_type": "execute_result"
    }
   ],
   "source": [
    "np.median(Np_random_dimensiones)"
   ]
  },
  {
   "cell_type": "code",
   "execution_count": 52,
   "id": "bc3e7592",
   "metadata": {},
   "outputs": [
    {
     "data": {
      "text/plain": [
       "27.0"
      ]
     },
     "execution_count": 52,
     "metadata": {},
     "output_type": "execute_result"
    }
   ],
   "source": [
    "from statistics import median\n",
    "median(Np_random_dimensiones)"
   ]
  },
  {
   "cell_type": "markdown",
   "id": "9c5a1ca4",
   "metadata": {},
   "source": [
    ">> Consigna: \n",
    "Recordar los ejercicios con funciones para cálculo de factorial y suma de serie de la Clase 02. \n",
    "Repetir ambos ejercicios, pero ahora utilizar las nuevas operaciones aprendidas con los ndarrays."
   ]
  },
  {
   "cell_type": "markdown",
   "id": "34c43ee5",
   "metadata": {},
   "source": [
    "cálculo de factorial"
   ]
  },
  {
   "cell_type": "code",
   "execution_count": 57,
   "id": "f3660bd4",
   "metadata": {},
   "outputs": [
    {
     "data": {
      "text/plain": [
       "1"
      ]
     },
     "execution_count": 57,
     "metadata": {},
     "output_type": "execute_result"
    }
   ],
   "source": [
    "np.math.factorial(0)"
   ]
  },
  {
   "cell_type": "code",
   "execution_count": 58,
   "id": "ead3e696",
   "metadata": {},
   "outputs": [
    {
     "data": {
      "text/plain": [
       "120"
      ]
     },
     "execution_count": 58,
     "metadata": {},
     "output_type": "execute_result"
    }
   ],
   "source": [
    "np.math.factorial(5)"
   ]
  },
  {
   "cell_type": "code",
   "execution_count": 62,
   "id": "261bcd13",
   "metadata": {},
   "outputs": [],
   "source": [
    "import numpy as np\n",
    "from scipy.special import factorial #conda install scipy\n",
    "myArrayFactorial = np.array([[1,2,3],[4,5,6]]) "
   ]
  },
  {
   "cell_type": "code",
   "execution_count": 66,
   "id": "07656ae3",
   "metadata": {},
   "outputs": [
    {
     "data": {
      "text/plain": [
       "array([[  1.,   2.,   6.],\n",
       "       [ 24., 120., 720.]])"
      ]
     },
     "execution_count": 66,
     "metadata": {},
     "output_type": "execute_result"
    }
   ],
   "source": [
    "factorial(myArrayFactorial)"
   ]
  },
  {
   "cell_type": "markdown",
   "id": "87b63676",
   "metadata": {},
   "source": [
    "suma de serie "
   ]
  },
  {
   "cell_type": "code",
   "execution_count": 80,
   "id": "b18640a8",
   "metadata": {},
   "outputs": [
    {
     "name": "stdout",
     "output_type": "stream",
     "text": [
      "[[1 2 3]\n",
      " [4 5 6]\n",
      " [7 8 9]]\n"
     ]
    }
   ],
   "source": [
    "import numpy as np\n",
    "myArraySerie = np.arange(1,10).reshape(3,3)\n",
    "print(myArraySerie)"
   ]
  },
  {
   "cell_type": "code",
   "execution_count": 81,
   "id": "32b4df65",
   "metadata": {},
   "outputs": [
    {
     "data": {
      "text/plain": [
       "array([12, 15, 18])"
      ]
     },
     "execution_count": 81,
     "metadata": {},
     "output_type": "execute_result"
    }
   ],
   "source": [
    "np.sum(myArraySerie, axis=0)"
   ]
  },
  {
   "cell_type": "code",
   "execution_count": 82,
   "id": "a56672f8",
   "metadata": {},
   "outputs": [
    {
     "name": "stdout",
     "output_type": "stream",
     "text": [
      "[1 2 3 4 5 6 7 8 9]\n"
     ]
    }
   ],
   "source": [
    "myArraySerie = np.arange(1,10)\n",
    "print(myArraySerie)"
   ]
  },
  {
   "cell_type": "code",
   "execution_count": 83,
   "id": "b079647c",
   "metadata": {},
   "outputs": [
    {
     "data": {
      "text/plain": [
       "45"
      ]
     },
     "execution_count": 83,
     "metadata": {},
     "output_type": "execute_result"
    }
   ],
   "source": [
    "np.sum(myArraySerie, axis=0)"
   ]
  },
  {
   "cell_type": "code",
   "execution_count": null,
   "id": "0bf628f4",
   "metadata": {},
   "outputs": [],
   "source": []
  }
 ],
 "metadata": {
  "kernelspec": {
   "display_name": "Python 3",
   "language": "python",
   "name": "python3"
  },
  "language_info": {
   "codemirror_mode": {
    "name": "ipython",
    "version": 3
   },
   "file_extension": ".py",
   "mimetype": "text/x-python",
   "name": "python",
   "nbconvert_exporter": "python",
   "pygments_lexer": "ipython3",
   "version": "3.9.5"
  }
 },
 "nbformat": 4,
 "nbformat_minor": 5
}

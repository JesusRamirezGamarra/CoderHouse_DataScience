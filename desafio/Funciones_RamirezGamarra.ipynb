{
 "cells": [
  {
   "cell_type": "raw",
   "id": "4d3c347e",
   "metadata": {},
   "source": [
    ">> Formato: Entregar un archivo con formato .ipynb. Debe tener el nombre “Funciones+Apellido”. \n",
    "Sugerencia: Preparar el código y probar los resultados con distintas entradas.\n",
    ">> Consigna: \n",
    "Escribir una función para calcular el factorial de un número cualquiera.\n",
    "Escribir una función para calcular la suma de una serie comenzando por un número cualquiera y terminando en otro número que debe ser mayor al primero.\n",
    ">> Aspectos a incluir en el entregable:\n",
    "El código debe estar hecho en un notebook y debe estar probado.\n",
    "Incluir una prueba que demuestre que el código funciona.\n",
    ">> Ejemplo a continuación"
   ]
  },
  {
   "cell_type": "code",
   "execution_count": 17,
   "id": "9e9ef775",
   "metadata": {},
   "outputs": [],
   "source": [
    "def suma(x,y):# Aquí definimos una función “suma”. \n",
    "    z = x + y # Esto es lo que pide el ejercicio\n",
    "    return z\n",
    "    #return  x + y\n",
    "\n"
   ]
  },
  {
   "cell_type": "code",
   "execution_count": 16,
   "id": "5c109691",
   "metadata": {},
   "outputs": [
    {
     "name": "stdout",
     "output_type": "stream",
     "text": [
      "5\n"
     ]
    }
   ],
   "source": [
    "res = suma(2,3) # Aquí probamos la función suma con dos números concretos\n",
    "                # Esta es la prueba para verificar que el código funciona\n",
    "print (res)\n"
   ]
  },
  {
   "cell_type": "markdown",
   "id": "6e0f6df6",
   "metadata": {},
   "source": [
    ">> Consigna: \n",
    "Escribir una función para calcular el factorial de un número cualquiera."
   ]
  },
  {
   "cell_type": "code",
   "execution_count": 130,
   "id": "174f7b41",
   "metadata": {},
   "outputs": [],
   "source": [
    "def fn_factorial(numero):\n",
    "    i = 2 # iniciamos el ciclo en 2 x eficiencia, ya que el para numero <=1 existe ya validacion y/o valor x default\n",
    "    factorial = 1\n",
    "    if isinstance(numero,str) :\n",
    "        print(\"debe ingresar un numero , la funcion no acepta string\")\n",
    "        return\n",
    "    elif numero <0 :\n",
    "        print(\"debe ingresar un numero mayor o igual a 0 ,para mas informacion ver : https://www.youtube.com/watch?v=qRvZ4CxXz2I\")\n",
    "        return\n",
    "    #elif numero == 0 : # no es necesario ya que el valor x defecto admite esta posibilidad\n",
    "        #return 1\n",
    "    elif((str(numero)).isnumeric()==False):\n",
    "        print(\"debe ingresar un numero no decimal\")\n",
    "        return\n",
    "    else :\n",
    "        while i <= numero:\n",
    "            factorial *=  i   \n",
    "            i += 1\n",
    "        #print(factorial)\n",
    "    return factorial\n"
   ]
  },
  {
   "cell_type": "code",
   "execution_count": 131,
   "id": "85427135",
   "metadata": {},
   "outputs": [
    {
     "name": "stdout",
     "output_type": "stream",
     "text": [
      "debe ingresar un numero mayor o igual a 0 ,para mas informacion ver : https://www.youtube.com/watch?v=qRvZ4CxXz2I\n"
     ]
    }
   ],
   "source": [
    "fn_factorial(-1)\n"
   ]
  },
  {
   "cell_type": "code",
   "execution_count": 132,
   "id": "1f884428",
   "metadata": {},
   "outputs": [
    {
     "data": {
      "text/plain": [
       "1"
      ]
     },
     "execution_count": 132,
     "metadata": {},
     "output_type": "execute_result"
    }
   ],
   "source": [
    "fn_factorial(0)\n"
   ]
  },
  {
   "cell_type": "code",
   "execution_count": 133,
   "id": "313270df",
   "metadata": {},
   "outputs": [
    {
     "name": "stdout",
     "output_type": "stream",
     "text": [
      "debe ingresar un numero no decimal\n"
     ]
    }
   ],
   "source": [
    "fn_factorial(5.1)"
   ]
  },
  {
   "cell_type": "code",
   "execution_count": 125,
   "id": "f6f702a2",
   "metadata": {},
   "outputs": [
    {
     "data": {
      "text/plain": [
       "120"
      ]
     },
     "execution_count": 125,
     "metadata": {},
     "output_type": "execute_result"
    }
   ],
   "source": [
    "fn_factorial(5)"
   ]
  },
  {
   "cell_type": "code",
   "execution_count": 134,
   "id": "30161278",
   "metadata": {},
   "outputs": [
    {
     "name": "stdout",
     "output_type": "stream",
     "text": [
      "debe ingresar un numero , la funcion no acepta cadenas\n"
     ]
    }
   ],
   "source": [
    "fn_factorial(\"5\")"
   ]
  },
  {
   "cell_type": "markdown",
   "id": "c783a162",
   "metadata": {},
   "source": [
    ">> Consigna: \n",
    "Escribir una función para calcular la suma de una serie comenzando por un número cualquiera y terminando en otro número que debe ser mayor al primero."
   ]
  },
  {
   "cell_type": "code",
   "execution_count": 68,
   "id": "ebdf5200",
   "metadata": {},
   "outputs": [],
   "source": [
    "# Se procede a definir la función\n",
    "def fn_sumaSerie(inicio,fin):\n",
    "    suma=0\n",
    "    if fin<=inicio:\n",
    "        print(\"fin:[2do parametro de la funcion] debe ser mayor que inicio [1er parametro de la funcion]\")\n",
    "        return\n",
    "    else :\n",
    "        for i in range(inicio, fin+1):\n",
    "            suma += i\n",
    "        return suma\n"
   ]
  },
  {
   "cell_type": "code",
   "execution_count": 69,
   "id": "f5e7e868",
   "metadata": {},
   "outputs": [
    {
     "data": {
      "text/plain": [
       "3"
      ]
     },
     "execution_count": 69,
     "metadata": {},
     "output_type": "execute_result"
    }
   ],
   "source": [
    "fn_sumaSerie(-2,3)"
   ]
  },
  {
   "cell_type": "code",
   "execution_count": 70,
   "id": "fb9c566b",
   "metadata": {},
   "outputs": [
    {
     "data": {
      "text/plain": [
       "15"
      ]
     },
     "execution_count": 70,
     "metadata": {},
     "output_type": "execute_result"
    }
   ],
   "source": [
    "fn_sumaSerie(0,5)"
   ]
  },
  {
   "cell_type": "code",
   "execution_count": 71,
   "id": "50088fc5",
   "metadata": {},
   "outputs": [
    {
     "data": {
      "text/plain": [
       "56"
      ]
     },
     "execution_count": 71,
     "metadata": {},
     "output_type": "execute_result"
    }
   ],
   "source": [
    "fn_sumaSerie(5,11)"
   ]
  }
 ],
 "metadata": {
  "kernelspec": {
   "display_name": "Python 3",
   "language": "python",
   "name": "python3"
  },
  "language_info": {
   "codemirror_mode": {
    "name": "ipython",
    "version": 3
   },
   "file_extension": ".py",
   "mimetype": "text/x-python",
   "name": "python",
   "nbconvert_exporter": "python",
   "pygments_lexer": "ipython3",
   "version": "3.9.5"
  }
 },
 "nbformat": 4,
 "nbformat_minor": 5
}
